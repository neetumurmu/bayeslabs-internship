{
 "cells": [
  {
   "cell_type": "markdown",
   "metadata": {},
   "source": [
    "### Explicit Random Walk"
   ]
  },
  {
   "cell_type": "code",
   "execution_count": 1,
   "metadata": {},
   "outputs": [],
   "source": [
    "import numpy as np\n",
    "from scipy.linalg import fractional_matrix_power\n",
    "from numpy.linalg import matrix_power\n",
    "from numpy import matmul"
   ]
  },
  {
   "cell_type": "code",
   "execution_count": 2,
   "metadata": {},
   "outputs": [
    {
     "data": {
      "text/plain": [
       "array([[1., 1., 0., 0., 0.],\n",
       "       [1., 1., 0., 1., 0.],\n",
       "       [0., 0., 1., 1., 0.],\n",
       "       [0., 1., 1., 1., 1.],\n",
       "       [0., 0., 0., 1., 1.]])"
      ]
     },
     "execution_count": 2,
     "metadata": {},
     "output_type": "execute_result"
    }
   ],
   "source": [
    "A = np.array([\n",
    "    [0, 1, 0, 0, 0],\n",
    "    [1, 0, 0, 1, 0], \n",
    "    [0, 0, 0, 1, 0],\n",
    "    [0, 1, 1, 0, 1],\n",
    "    [0, 0, 0, 1, 0]],\n",
    "    dtype=float\n",
    ")\n",
    "I = np.eye(A.shape[0])\n",
    "A = A + I  \n",
    "A"
   ]
  },
  {
   "cell_type": "code",
   "execution_count": 3,
   "metadata": {},
   "outputs": [],
   "source": [
    "def get_diag(D):\n",
    "    return np.array(np.diag(D))\n",
    "\n",
    "def get_T(A, D):\n",
    "    T = np.matmul(matrix_power(D, -1), A)\n",
    "    return T\n",
    "\n",
    "def get_A_hat_power(k, A, D, T):\n",
    "    print(type(D))\n",
    "    D_nsqrt = fractional_matrix_power(D, -0.5)\n",
    "    T_power = matrix_power(T, k-1)\n",
    "    A_hat = matmul(D_nsqrt, matmul(A, matmul(T_power, D_nsqrt)))\n",
    "    return A_hat"
   ]
  },
  {
   "cell_type": "code",
   "execution_count": 4,
   "metadata": {},
   "outputs": [],
   "source": [
    "D = np.array(np.sum(A, axis=1))    # calculates degree of each node\n",
    "D = get_diag(D)    # get diagonal node degree matrix\n",
    "T = get_T(A, D)    # calculcate transition matrix"
   ]
  },
  {
   "cell_type": "code",
   "execution_count": 5,
   "metadata": {},
   "outputs": [
    {
     "name": "stdout",
     "output_type": "stream",
     "text": [
      "<class 'numpy.ndarray'>\n"
     ]
    },
    {
     "data": {
      "text/plain": [
       "array([[0.5       , 0.40824829, 0.        , 0.        , 0.        ],\n",
       "       [0.40824829, 0.33333333, 0.        , 0.28867513, 0.        ],\n",
       "       [0.        , 0.        , 0.5       , 0.35355339, 0.        ],\n",
       "       [0.        , 0.28867513, 0.35355339, 0.25      , 0.35355339],\n",
       "       [0.        , 0.        , 0.        , 0.35355339, 0.5       ]])"
      ]
     },
     "execution_count": 5,
     "metadata": {},
     "output_type": "execute_result"
    }
   ],
   "source": [
    "A_hat_1 = get_A_hat_power(1, A, D, T)  # performs k-step (in this case, 1) random walk \n",
    "A_hat_1    # same as normalized version of A [since T^0 = 1]"
   ]
  },
  {
   "cell_type": "code",
   "execution_count": 6,
   "metadata": {},
   "outputs": [
    {
     "name": "stdout",
     "output_type": "stream",
     "text": [
      "<class 'numpy.ndarray'>\n"
     ]
    },
    {
     "data": {
      "text/plain": [
       "array([[0.41666667, 0.34020691, 0.        , 0.11785113, 0.        ],\n",
       "       [0.34020691, 0.36111111, 0.10206207, 0.16839383, 0.10206207],\n",
       "       [0.        , 0.10206207, 0.375     , 0.26516504, 0.125     ],\n",
       "       [0.11785113, 0.16839383, 0.26516504, 0.39583333, 0.26516504],\n",
       "       [0.        , 0.10206207, 0.125     , 0.26516504, 0.375     ]])"
      ]
     },
     "execution_count": 6,
     "metadata": {},
     "output_type": "execute_result"
    }
   ],
   "source": [
    "A_hat_2 = get_A_hat_power(2, A, D, T)\n",
    "A_hat_2"
   ]
  },
  {
   "cell_type": "code",
   "execution_count": 7,
   "metadata": {},
   "outputs": [
    {
     "name": "stdout",
     "output_type": "stream",
     "text": [
      "<class 'numpy.ndarray'>\n"
     ]
    },
    {
     "data": {
      "text/plain": [
       "array([[0.34722222, 0.31752645, 0.04166667, 0.12767206, 0.04166667],\n",
       "       [0.31752645, 0.30787037, 0.11056725, 0.21851104, 0.11056725],\n",
       "       [0.04166667, 0.11056725, 0.28125   , 0.27253074, 0.15625   ],\n",
       "       [0.12767206, 0.21851104, 0.27253074, 0.33506944, 0.27253074],\n",
       "       [0.04166667, 0.11056725, 0.15625   , 0.27253074, 0.28125   ]])"
      ]
     },
     "execution_count": 7,
     "metadata": {},
     "output_type": "execute_result"
    }
   ],
   "source": [
    "A_hat_3 = get_A_hat_power(3, A, D, T)\n",
    "A_hat_3"
   ]
  },
  {
   "cell_type": "code",
   "execution_count": null,
   "metadata": {},
   "outputs": [],
   "source": []
  }
 ],
 "metadata": {
  "kernelspec": {
   "display_name": "Python 3",
   "language": "python",
   "name": "python3"
  },
  "language_info": {
   "codemirror_mode": {
    "name": "ipython",
    "version": 3
   },
   "file_extension": ".py",
   "mimetype": "text/x-python",
   "name": "python",
   "nbconvert_exporter": "python",
   "pygments_lexer": "ipython3",
   "version": "3.6.9"
  }
 },
 "nbformat": 4,
 "nbformat_minor": 2
}
